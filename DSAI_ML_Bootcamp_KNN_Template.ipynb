{
  "nbformat": 4,
  "nbformat_minor": 0,
  "metadata": {
    "colab": {
      "provenance": [],
      "collapsed_sections": [
        "ui9HCoerL1ei"
      ],
      "include_colab_link": true
    },
    "kernelspec": {
      "name": "python3",
      "display_name": "Python 3"
    },
    "language_info": {
      "name": "python"
    }
  },
  "cells": [
    {
      "cell_type": "markdown",
      "metadata": {
        "id": "view-in-github",
        "colab_type": "text"
      },
      "source": [
        "<a href=\"https://colab.research.google.com/github/angekonan715/Data-Science-Project/blob/main/DSAI_ML_Bootcamp_KNN_Template.ipynb\" target=\"_parent\"><img src=\"https://colab.research.google.com/assets/colab-badge.svg\" alt=\"Open In Colab\"/></a>"
      ]
    },
    {
      "cell_type": "markdown",
      "source": [
        "# K-Nearest Neighbors Machine Leaning Model 💻 🧠\n",
        "\n",
        "---\n",
        "\n"
      ],
      "metadata": {
        "id": "AHAWitwpCmVO"
      }
    },
    {
      "cell_type": "markdown",
      "source": [
        "### 🔴 PLEASE COPY THIS NOTEBOOK INTO YOUR OWN GITHUB OR GOOGLE DRIVE DO NOT MODIFY THIS VERSION🔴"
      ],
      "metadata": {
        "id": "2niUAymxL6SK"
      }
    },
    {
      "cell_type": "markdown",
      "source": [
        "## Overview"
      ],
      "metadata": {
        "id": "ui9HCoerL1ei"
      }
    },
    {
      "cell_type": "markdown",
      "source": [
        "K-Nearest Neighbors (KNN) is a supervised machine learning algorithm commonly used for classification and regression tasks. It’s one of the simplest and most intuitive models in machine learning.\n",
        "**bold text**\n",
        "\n",
        " <br>\n",
        "\n",
        "---\n",
        "\n",
        "<br>\n",
        "\n",
        "**Definition**\n",
        "KNN works by finding the 'k' closest data points (neighbors) to a given input based on some distance metric (e.g., Euclidean distance). The predicted value or class is determined by these neighbors:\n",
        "\n",
        "* For classification, the input is assigned the class most common among its neighbors (majority vote).\n",
        "* For regression, the predicted value is the average (or sometimes weighted average) of the neighbors' values.\n",
        "\n",
        "<br>\n",
        "\n",
        "---\n",
        "\n",
        "<br>\n",
        "\n",
        "**Key Concepts**\n",
        "1. K (Number of Neighbors): The algorithm uses 'k' neighbors to make predictions. Choosing the right 'k' is crucial:\n",
        "* Small 'k' (e.g., 1 or 3) makes the model sensitive to noise.\n",
        "* Large 'k' smooths out predictions but may overlook local patterns.  \n",
        "\n",
        "\n",
        "2. Distance Metrics: Determines how \"close\" neighbors are. Common metrics include:\n",
        "\n",
        "* Euclidean Distance: Straight-line distance between points.\n",
        "* Manhattan Distance: Distance measured along axes at right angles.\n",
        "* Cosine Similarity: Measures the cosine of the angle between two vectors (useful for text or high-dimensional data).\n",
        "3. Laziness: KNN is a lazy learner, meaning it doesn't learn a model during training. Instead, it stores the data and makes predictions when queried. This is why it’s called a \"memory-based\" approach.\n",
        "\n",
        "<br>\n",
        "\n",
        "---\n",
        "\n",
        "<br>\n",
        "\n",
        "**Pros**\n",
        "1. Simplicity: Easy to understand and implement.\n",
        "2. No Training Phase: Since KNN doesn’t explicitly learn a model, the training  phase is fast.\n",
        "3. Versatility: Can handle classification and regression problems.\n",
        "4. Adaptability: Works well for multi-class classification.\n",
        "5. Non-parametric: No assumptions about the underlying data distribution.\n",
        "\n",
        "<br>\n",
        "\n",
        "---\n",
        "\n",
        "<br>\n",
        "\n",
        "**Cons**\n",
        "1. Computationally Expensive: Prediction requires calculating distances to all training data, which can be slow for large datasets.\n",
        "2. Memory Intensive: The model needs to store all the training data.\n",
        "3. Sensitive to 'k': Choosing the right number of neighbors is critical and often requires experimentation.\n",
        "4. Sensitive to Noise: Outliers or irrelevant features can negatively affect performance.\n",
        "5. Scaling Required: Features must be scaled (e.g., using standardization or normalization) for distance metrics like Euclidean distance to work properly.\n",
        "\n",
        "<br>\n",
        "\n",
        "---\n",
        "\n",
        "<br>\n",
        "\n",
        "**Tips**\n",
        "* Use Weighted KNN: Assign weights to neighbors so closer neighbors have more influence. Do this wisely, but correct implementation will boost accuracy greatly.\n",
        "* Use Efficient Searches: KD-Trees or Ball Trees can speed up distance calculations for large datasets.\n",
        "* Use Feature Selection: Remove irrelevant or noisy features to improve performance.\n",
        "\n",
        "<br>\n",
        "\n",
        "---\n",
        "\n",
        "<br>\n",
        "\n",
        "**Useful Articles and Videos**\n",
        "* https://www.w3schools.com/python/python_ml_knn.asp\n",
        "* https://realpython.com/knn-python/\n",
        "* https://www.geeksforgeeks.org/k-nearest-neighbor-algorithm-in-python/\n",
        "* https://www.youtube.com/watch?v=CQveSaMyEwM\n",
        "* https://www.youtube.com/watch?v=b6uHw7QW_n4\n",
        "* https://www.youtube.com/watch?v=w6bOBZX-1kY\n",
        "\n",
        "<br>"
      ],
      "metadata": {
        "id": "KoKmsmdLC8f9"
      }
    },
    {
      "cell_type": "markdown",
      "source": [
        "## Import Data/Libraries"
      ],
      "metadata": {
        "id": "sZVO9xtJJIuG"
      }
    },
    {
      "cell_type": "code",
      "execution_count": null,
      "metadata": {
        "id": "HWL1QsBFCYTe"
      },
      "outputs": [],
      "source": [
        "# needed libraries for KNN models\n",
        "import pandas as pd\n",
        "from sklearn.neighbors import KNeighborsClassifier\n",
        "from sklearn.model_selection import train_test_split\n",
        "from sklearn.preprocessing import StandardScaler\n",
        "\n",
        "# foundation dataset\n",
        "from sklearn.datasets import load_iris\n",
        "\n",
        "# stretch dataset\n",
        "cleveland_df = pd.read_csv('https://archive.ics.uci.edu/ml/machine-learning-databases/heart-disease/processed.cleveland.data', header=None)\n",
        "hungarian_df = pd.read_csv('https://archive.ics.uci.edu/ml/machine-learning-databases/heart-disease/processed.hungarian.data', header=None)\n",
        "switzerland_df = pd.read_csv('https://archive.ics.uci.edu/ml/machine-learning-databases/heart-disease/processed.switzerland.data', header=None)"
      ]
    },
    {
      "cell_type": "markdown",
      "source": [
        "## Explore, Visualize and Understand the Data"
      ],
      "metadata": {
        "id": "7eveNgiiJPAZ"
      }
    },
    {
      "cell_type": "code",
      "source": [],
      "metadata": {
        "id": "j-9s4kegJeVc"
      },
      "execution_count": null,
      "outputs": []
    },
    {
      "cell_type": "code",
      "source": [],
      "metadata": {
        "id": "upU1gUqMJfLA"
      },
      "execution_count": null,
      "outputs": []
    },
    {
      "cell_type": "code",
      "source": [],
      "metadata": {
        "id": "bCAQyXCuJfnR"
      },
      "execution_count": null,
      "outputs": []
    },
    {
      "cell_type": "markdown",
      "source": [
        "## Feature Enginnering and Data Augmentation"
      ],
      "metadata": {
        "id": "qKylx8ZxJgAB"
      }
    },
    {
      "cell_type": "markdown",
      "source": [
        "### **Data Augmentation**  \n",
        "**Definition:**\n",
        "Data augmentation is the process of artificially expanding the size and diversity of a training dataset by applying transformations or modifications to the existing data while preserving the underlying labels or structure. It is commonly used in machine learning, especially in computer vision and natural language processing, to improve model performance and robustness.\n",
        "\n",
        "### **Feature Engineering**  \n",
        "**Definition:**\n",
        "Feature engineering is the process of creating, modifying, or selecting relevant features (input variables) from raw data to improve the performance of a machine learning model. It involves transforming raw data into a format that makes it more suitable for algorithms to learn patterns.\n"
      ],
      "metadata": {
        "id": "74NeCrCiJqWB"
      }
    },
    {
      "cell_type": "code",
      "source": [],
      "metadata": {
        "id": "WLdk5nbKJqzL"
      },
      "execution_count": null,
      "outputs": []
    },
    {
      "cell_type": "code",
      "source": [],
      "metadata": {
        "id": "nhSF6JJvK8yV"
      },
      "execution_count": null,
      "outputs": []
    },
    {
      "cell_type": "markdown",
      "source": [
        "## Machine Learning Model"
      ],
      "metadata": {
        "id": "JtZjh6LZK9i7"
      }
    },
    {
      "cell_type": "markdown",
      "source": [
        "### Split the data"
      ],
      "metadata": {
        "id": "LAK2BuxWLC5D"
      }
    },
    {
      "cell_type": "code",
      "source": [],
      "metadata": {
        "id": "MMSuVHCQLGDh"
      },
      "execution_count": null,
      "outputs": []
    },
    {
      "cell_type": "markdown",
      "source": [
        "### Create the model"
      ],
      "metadata": {
        "id": "xN2sJm5ELGzD"
      }
    },
    {
      "cell_type": "code",
      "source": [],
      "metadata": {
        "id": "BmBPs2R8LSad"
      },
      "execution_count": null,
      "outputs": []
    },
    {
      "cell_type": "markdown",
      "source": [
        "### Train the model"
      ],
      "metadata": {
        "id": "8LJspZOjLSuV"
      }
    },
    {
      "cell_type": "code",
      "source": [],
      "metadata": {
        "id": "ZbLd6tU0LU-o"
      },
      "execution_count": null,
      "outputs": []
    },
    {
      "cell_type": "markdown",
      "source": [
        "### Make predictions"
      ],
      "metadata": {
        "id": "2jhhDHYbLVSg"
      }
    },
    {
      "cell_type": "code",
      "source": [],
      "metadata": {
        "id": "Jhjz5c3uLfT5"
      },
      "execution_count": null,
      "outputs": []
    },
    {
      "cell_type": "markdown",
      "source": [
        "## Evaluate the Model"
      ],
      "metadata": {
        "id": "KefJ8f62LftJ"
      }
    },
    {
      "cell_type": "code",
      "source": [],
      "metadata": {
        "id": "V0jQXowqLkkK"
      },
      "execution_count": null,
      "outputs": []
    }
  ]
}