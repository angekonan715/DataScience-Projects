{
  "nbformat": 4,
  "nbformat_minor": 0,
  "metadata": {
    "colab": {
      "provenance": [],
      "collapsed_sections": [
        "ui9HCoerL1ei"
      ],
      "include_colab_link": true
    },
    "kernelspec": {
      "name": "python3",
      "display_name": "Python 3"
    },
    "language_info": {
      "name": "python"
    }
  },
  "cells": [
    {
      "cell_type": "markdown",
      "metadata": {
        "id": "view-in-github",
        "colab_type": "text"
      },
      "source": [
        "<a href=\"https://colab.research.google.com/github/angekonan715/Data-Science-Project/blob/main/DSAI_ML_Bootcamp_KNN.ipynb\" target=\"_parent\"><img src=\"https://colab.research.google.com/assets/colab-badge.svg\" alt=\"Open In Colab\"/></a>"
      ]
    },
    {
      "cell_type": "markdown",
      "source": [
        "# K-Nearest Neighbors Machine Leaning Model 💻 🧠\n",
        "\n",
        "---\n",
        "\n"
      ],
      "metadata": {
        "id": "AHAWitwpCmVO"
      }
    },
    {
      "cell_type": "markdown",
      "source": [
        "### 🔴 PLEASE COPY THIS NOTEBOOK INTO YOUR OWN GITHUB OR GOOGLE DRIVE DO NOT MODIFY THIS VERSION🔴"
      ],
      "metadata": {
        "id": "2niUAymxL6SK"
      }
    },
    {
      "cell_type": "markdown",
      "source": [
        "## Overview"
      ],
      "metadata": {
        "id": "ui9HCoerL1ei"
      }
    },
    {
      "cell_type": "markdown",
      "source": [
        "K-Nearest Neighbors (KNN) is a supervised machine learning algorithm commonly used for classification and regression tasks. It’s one of the simplest and most intuitive models in machine learning.\n",
        "**bold text**\n",
        "\n",
        " <br>\n",
        "\n",
        "---\n",
        "\n",
        "<br>\n",
        "\n",
        "**Definition**\n",
        "KNN works by finding the 'k' closest data points (neighbors) to a given input based on some distance metric (e.g., Euclidean distance). The predicted value or class is determined by these neighbors:\n",
        "\n",
        "* For classification, the input is assigned the class most common among its neighbors (majority vote).\n",
        "* For regression, the predicted value is the average (or sometimes weighted average) of the neighbors' values.\n",
        "\n",
        "<br>\n",
        "\n",
        "---\n",
        "\n",
        "<br>\n",
        "\n",
        "**Key Concepts**\n",
        "1. K (Number of Neighbors): The algorithm uses 'k' neighbors to make predictions. Choosing the right 'k' is crucial:\n",
        "* Small 'k' (e.g., 1 or 3) makes the model sensitive to noise.\n",
        "* Large 'k' smooths out predictions but may overlook local patterns.  \n",
        "\n",
        "\n",
        "2. Distance Metrics: Determines how \"close\" neighbors are. Common metrics include:\n",
        "\n",
        "* Euclidean Distance: Straight-line distance between points.\n",
        "* Manhattan Distance: Distance measured along axes at right angles.\n",
        "* Cosine Similarity: Measures the cosine of the angle between two vectors (useful for text or high-dimensional data).\n",
        "3. Laziness: KNN is a lazy learner, meaning it doesn't learn a model during training. Instead, it stores the data and makes predictions when queried. This is why it’s called a \"memory-based\" approach.\n",
        "\n",
        "<br>\n",
        "\n",
        "---\n",
        "\n",
        "<br>\n",
        "\n",
        "**Pros**\n",
        "1. Simplicity: Easy to understand and implement.\n",
        "2. No Training Phase: Since KNN doesn’t explicitly learn a model, the training  phase is fast.\n",
        "3. Versatility: Can handle classification and regression problems.\n",
        "4. Adaptability: Works well for multi-class classification.\n",
        "5. Non-parametric: No assumptions about the underlying data distribution.\n",
        "\n",
        "<br>\n",
        "\n",
        "---\n",
        "\n",
        "<br>\n",
        "\n",
        "**Cons**\n",
        "1. Computationally Expensive: Prediction requires calculating distances to all training data, which can be slow for large datasets.\n",
        "2. Memory Intensive: The model needs to store all the training data.\n",
        "3. Sensitive to 'k': Choosing the right number of neighbors is critical and often requires experimentation.\n",
        "4. Sensitive to Noise: Outliers or irrelevant features can negatively affect performance.\n",
        "5. Scaling Required: Features must be scaled (e.g., using standardization or normalization) for distance metrics like Euclidean distance to work properly.\n",
        "\n",
        "<br>\n",
        "\n",
        "---\n",
        "\n",
        "<br>\n",
        "\n",
        "**Tips**\n",
        "* Use Weighted KNN: Assign weights to neighbors so closer neighbors have more influence. Do this wisely, but correct implementation will boost accuracy greatly.\n",
        "* Use Efficient Searches: KD-Trees or Ball Trees can speed up distance calculations for large datasets.\n",
        "* Use Feature Selection: Remove irrelevant or noisy features to improve performance.\n",
        "\n",
        "<br>\n",
        "\n",
        "---\n",
        "\n",
        "<br>\n",
        "\n",
        "**Useful Articles and Videos**\n",
        "* https://www.w3schools.com/python/python_ml_knn.asp\n",
        "* https://realpython.com/knn-python/\n",
        "* https://www.geeksforgeeks.org/k-nearest-neighbor-algorithm-in-python/\n",
        "* https://www.youtube.com/watch?v=CQveSaMyEwM\n",
        "* https://www.youtube.com/watch?v=b6uHw7QW_n4\n",
        "* https://www.youtube.com/watch?v=w6bOBZX-1kY\n",
        "\n",
        "<br>"
      ],
      "metadata": {
        "id": "KoKmsmdLC8f9"
      }
    },
    {
      "cell_type": "markdown",
      "source": [
        "## Import Data/Libraries"
      ],
      "metadata": {
        "id": "sZVO9xtJJIuG"
      }
    },
    {
      "cell_type": "code",
      "execution_count": 24,
      "metadata": {
        "id": "HWL1QsBFCYTe",
        "collapsed": true,
        "outputId": "8b5c8796-c35c-4b26-e34f-bd3205a026df",
        "colab": {
          "base_uri": "https://localhost:8080/"
        }
      },
      "outputs": [
        {
          "output_type": "stream",
          "name": "stdout",
          "text": [
            "Requirement already satisfied: lets_plot in /usr/local/lib/python3.11/dist-packages (4.5.2)\n",
            "Requirement already satisfied: pypng in /usr/local/lib/python3.11/dist-packages (from lets_plot) (0.20220715.0)\n",
            "Requirement already satisfied: palettable in /usr/local/lib/python3.11/dist-packages (from lets_plot) (3.3.3)\n"
          ]
        }
      ],
      "source": [
        "# needed libraries for KNN models\n",
        "import pandas as pd\n",
        "from sklearn.neighbors import KNeighborsClassifier\n",
        "from sklearn.model_selection import train_test_split\n",
        "from sklearn.preprocessing import StandardScaler\n",
        "\n",
        "#install and import ggplot\n",
        "!pip install lets_plot\n",
        "from lets_plot import *\n",
        "LetsPlot.setup_html()\n",
        "\n",
        "\n",
        "# foundation dataset\n",
        "from sklearn.datasets import load_iris\n",
        "\n",
        "# stretch dataset\n",
        "cleveland_df = pd.read_csv('https://archive.ics.uci.edu/ml/machine-learning-databases/heart-disease/processed.cleveland.data', header=None)\n",
        "hungarian_df = pd.read_csv('https://archive.ics.uci.edu/ml/machine-learning-databases/heart-disease/processed.hungarian.data', header=None)\n",
        "switzerland_df = pd.read_csv('https://archive.ics.uci.edu/ml/machine-learning-databases/heart-disease/processed.switzerland.data', header=None)"
      ]
    },
    {
      "cell_type": "markdown",
      "source": [
        "## Explore, Visualize and Understand the Data"
      ],
      "metadata": {
        "id": "7eveNgiiJPAZ"
      }
    },
    {
      "cell_type": "code",
      "source": [
        "iris = load_iris()\n",
        "# Tamplate of how pd.DataFrame() work\n",
        "iris_df = pd.DataFrame(data=iris.data, columns=iris.feature_names)\n",
        "iris_df['target'] = iris.target\n",
        "iris_df.head()"
      ],
      "metadata": {
        "id": "j-9s4kegJeVc",
        "colab": {
          "base_uri": "https://localhost:8080/",
          "height": 206
        },
        "outputId": "1f0b311d-e87a-4f8f-b74f-9e89296296b6"
      },
      "execution_count": 22,
      "outputs": [
        {
          "output_type": "execute_result",
          "data": {
            "text/plain": [
              "   sepal length (cm)  sepal width (cm)  petal length (cm)  petal width (cm)  \\\n",
              "0                5.1               3.5                1.4               0.2   \n",
              "1                4.9               3.0                1.4               0.2   \n",
              "2                4.7               3.2                1.3               0.2   \n",
              "3                4.6               3.1                1.5               0.2   \n",
              "4                5.0               3.6                1.4               0.2   \n",
              "\n",
              "   target  \n",
              "0       0  \n",
              "1       0  \n",
              "2       0  \n",
              "3       0  \n",
              "4       0  "
            ],
            "text/html": [
              "\n",
              "  <div id=\"df-d86f3d03-7e21-4765-8a6e-a2497b709037\" class=\"colab-df-container\">\n",
              "    <div>\n",
              "<style scoped>\n",
              "    .dataframe tbody tr th:only-of-type {\n",
              "        vertical-align: middle;\n",
              "    }\n",
              "\n",
              "    .dataframe tbody tr th {\n",
              "        vertical-align: top;\n",
              "    }\n",
              "\n",
              "    .dataframe thead th {\n",
              "        text-align: right;\n",
              "    }\n",
              "</style>\n",
              "<table border=\"1\" class=\"dataframe\">\n",
              "  <thead>\n",
              "    <tr style=\"text-align: right;\">\n",
              "      <th></th>\n",
              "      <th>sepal length (cm)</th>\n",
              "      <th>sepal width (cm)</th>\n",
              "      <th>petal length (cm)</th>\n",
              "      <th>petal width (cm)</th>\n",
              "      <th>target</th>\n",
              "    </tr>\n",
              "  </thead>\n",
              "  <tbody>\n",
              "    <tr>\n",
              "      <th>0</th>\n",
              "      <td>5.1</td>\n",
              "      <td>3.5</td>\n",
              "      <td>1.4</td>\n",
              "      <td>0.2</td>\n",
              "      <td>0</td>\n",
              "    </tr>\n",
              "    <tr>\n",
              "      <th>1</th>\n",
              "      <td>4.9</td>\n",
              "      <td>3.0</td>\n",
              "      <td>1.4</td>\n",
              "      <td>0.2</td>\n",
              "      <td>0</td>\n",
              "    </tr>\n",
              "    <tr>\n",
              "      <th>2</th>\n",
              "      <td>4.7</td>\n",
              "      <td>3.2</td>\n",
              "      <td>1.3</td>\n",
              "      <td>0.2</td>\n",
              "      <td>0</td>\n",
              "    </tr>\n",
              "    <tr>\n",
              "      <th>3</th>\n",
              "      <td>4.6</td>\n",
              "      <td>3.1</td>\n",
              "      <td>1.5</td>\n",
              "      <td>0.2</td>\n",
              "      <td>0</td>\n",
              "    </tr>\n",
              "    <tr>\n",
              "      <th>4</th>\n",
              "      <td>5.0</td>\n",
              "      <td>3.6</td>\n",
              "      <td>1.4</td>\n",
              "      <td>0.2</td>\n",
              "      <td>0</td>\n",
              "    </tr>\n",
              "  </tbody>\n",
              "</table>\n",
              "</div>\n",
              "    <div class=\"colab-df-buttons\">\n",
              "\n",
              "  <div class=\"colab-df-container\">\n",
              "    <button class=\"colab-df-convert\" onclick=\"convertToInteractive('df-d86f3d03-7e21-4765-8a6e-a2497b709037')\"\n",
              "            title=\"Convert this dataframe to an interactive table.\"\n",
              "            style=\"display:none;\">\n",
              "\n",
              "  <svg xmlns=\"http://www.w3.org/2000/svg\" height=\"24px\" viewBox=\"0 -960 960 960\">\n",
              "    <path d=\"M120-120v-720h720v720H120Zm60-500h600v-160H180v160Zm220 220h160v-160H400v160Zm0 220h160v-160H400v160ZM180-400h160v-160H180v160Zm440 0h160v-160H620v160ZM180-180h160v-160H180v160Zm440 0h160v-160H620v160Z\"/>\n",
              "  </svg>\n",
              "    </button>\n",
              "\n",
              "  <style>\n",
              "    .colab-df-container {\n",
              "      display:flex;\n",
              "      gap: 12px;\n",
              "    }\n",
              "\n",
              "    .colab-df-convert {\n",
              "      background-color: #E8F0FE;\n",
              "      border: none;\n",
              "      border-radius: 50%;\n",
              "      cursor: pointer;\n",
              "      display: none;\n",
              "      fill: #1967D2;\n",
              "      height: 32px;\n",
              "      padding: 0 0 0 0;\n",
              "      width: 32px;\n",
              "    }\n",
              "\n",
              "    .colab-df-convert:hover {\n",
              "      background-color: #E2EBFA;\n",
              "      box-shadow: 0px 1px 2px rgba(60, 64, 67, 0.3), 0px 1px 3px 1px rgba(60, 64, 67, 0.15);\n",
              "      fill: #174EA6;\n",
              "    }\n",
              "\n",
              "    .colab-df-buttons div {\n",
              "      margin-bottom: 4px;\n",
              "    }\n",
              "\n",
              "    [theme=dark] .colab-df-convert {\n",
              "      background-color: #3B4455;\n",
              "      fill: #D2E3FC;\n",
              "    }\n",
              "\n",
              "    [theme=dark] .colab-df-convert:hover {\n",
              "      background-color: #434B5C;\n",
              "      box-shadow: 0px 1px 3px 1px rgba(0, 0, 0, 0.15);\n",
              "      filter: drop-shadow(0px 1px 2px rgba(0, 0, 0, 0.3));\n",
              "      fill: #FFFFFF;\n",
              "    }\n",
              "  </style>\n",
              "\n",
              "    <script>\n",
              "      const buttonEl =\n",
              "        document.querySelector('#df-d86f3d03-7e21-4765-8a6e-a2497b709037 button.colab-df-convert');\n",
              "      buttonEl.style.display =\n",
              "        google.colab.kernel.accessAllowed ? 'block' : 'none';\n",
              "\n",
              "      async function convertToInteractive(key) {\n",
              "        const element = document.querySelector('#df-d86f3d03-7e21-4765-8a6e-a2497b709037');\n",
              "        const dataTable =\n",
              "          await google.colab.kernel.invokeFunction('convertToInteractive',\n",
              "                                                    [key], {});\n",
              "        if (!dataTable) return;\n",
              "\n",
              "        const docLinkHtml = 'Like what you see? Visit the ' +\n",
              "          '<a target=\"_blank\" href=https://colab.research.google.com/notebooks/data_table.ipynb>data table notebook</a>'\n",
              "          + ' to learn more about interactive tables.';\n",
              "        element.innerHTML = '';\n",
              "        dataTable['output_type'] = 'display_data';\n",
              "        await google.colab.output.renderOutput(dataTable, element);\n",
              "        const docLink = document.createElement('div');\n",
              "        docLink.innerHTML = docLinkHtml;\n",
              "        element.appendChild(docLink);\n",
              "      }\n",
              "    </script>\n",
              "  </div>\n",
              "\n",
              "\n",
              "<div id=\"df-3bf1fb04-55f7-4c48-9f86-c6bf6bd9d9b6\">\n",
              "  <button class=\"colab-df-quickchart\" onclick=\"quickchart('df-3bf1fb04-55f7-4c48-9f86-c6bf6bd9d9b6')\"\n",
              "            title=\"Suggest charts\"\n",
              "            style=\"display:none;\">\n",
              "\n",
              "<svg xmlns=\"http://www.w3.org/2000/svg\" height=\"24px\"viewBox=\"0 0 24 24\"\n",
              "     width=\"24px\">\n",
              "    <g>\n",
              "        <path d=\"M19 3H5c-1.1 0-2 .9-2 2v14c0 1.1.9 2 2 2h14c1.1 0 2-.9 2-2V5c0-1.1-.9-2-2-2zM9 17H7v-7h2v7zm4 0h-2V7h2v10zm4 0h-2v-4h2v4z\"/>\n",
              "    </g>\n",
              "</svg>\n",
              "  </button>\n",
              "\n",
              "<style>\n",
              "  .colab-df-quickchart {\n",
              "      --bg-color: #E8F0FE;\n",
              "      --fill-color: #1967D2;\n",
              "      --hover-bg-color: #E2EBFA;\n",
              "      --hover-fill-color: #174EA6;\n",
              "      --disabled-fill-color: #AAA;\n",
              "      --disabled-bg-color: #DDD;\n",
              "  }\n",
              "\n",
              "  [theme=dark] .colab-df-quickchart {\n",
              "      --bg-color: #3B4455;\n",
              "      --fill-color: #D2E3FC;\n",
              "      --hover-bg-color: #434B5C;\n",
              "      --hover-fill-color: #FFFFFF;\n",
              "      --disabled-bg-color: #3B4455;\n",
              "      --disabled-fill-color: #666;\n",
              "  }\n",
              "\n",
              "  .colab-df-quickchart {\n",
              "    background-color: var(--bg-color);\n",
              "    border: none;\n",
              "    border-radius: 50%;\n",
              "    cursor: pointer;\n",
              "    display: none;\n",
              "    fill: var(--fill-color);\n",
              "    height: 32px;\n",
              "    padding: 0;\n",
              "    width: 32px;\n",
              "  }\n",
              "\n",
              "  .colab-df-quickchart:hover {\n",
              "    background-color: var(--hover-bg-color);\n",
              "    box-shadow: 0 1px 2px rgba(60, 64, 67, 0.3), 0 1px 3px 1px rgba(60, 64, 67, 0.15);\n",
              "    fill: var(--button-hover-fill-color);\n",
              "  }\n",
              "\n",
              "  .colab-df-quickchart-complete:disabled,\n",
              "  .colab-df-quickchart-complete:disabled:hover {\n",
              "    background-color: var(--disabled-bg-color);\n",
              "    fill: var(--disabled-fill-color);\n",
              "    box-shadow: none;\n",
              "  }\n",
              "\n",
              "  .colab-df-spinner {\n",
              "    border: 2px solid var(--fill-color);\n",
              "    border-color: transparent;\n",
              "    border-bottom-color: var(--fill-color);\n",
              "    animation:\n",
              "      spin 1s steps(1) infinite;\n",
              "  }\n",
              "\n",
              "  @keyframes spin {\n",
              "    0% {\n",
              "      border-color: transparent;\n",
              "      border-bottom-color: var(--fill-color);\n",
              "      border-left-color: var(--fill-color);\n",
              "    }\n",
              "    20% {\n",
              "      border-color: transparent;\n",
              "      border-left-color: var(--fill-color);\n",
              "      border-top-color: var(--fill-color);\n",
              "    }\n",
              "    30% {\n",
              "      border-color: transparent;\n",
              "      border-left-color: var(--fill-color);\n",
              "      border-top-color: var(--fill-color);\n",
              "      border-right-color: var(--fill-color);\n",
              "    }\n",
              "    40% {\n",
              "      border-color: transparent;\n",
              "      border-right-color: var(--fill-color);\n",
              "      border-top-color: var(--fill-color);\n",
              "    }\n",
              "    60% {\n",
              "      border-color: transparent;\n",
              "      border-right-color: var(--fill-color);\n",
              "    }\n",
              "    80% {\n",
              "      border-color: transparent;\n",
              "      border-right-color: var(--fill-color);\n",
              "      border-bottom-color: var(--fill-color);\n",
              "    }\n",
              "    90% {\n",
              "      border-color: transparent;\n",
              "      border-bottom-color: var(--fill-color);\n",
              "    }\n",
              "  }\n",
              "</style>\n",
              "\n",
              "  <script>\n",
              "    async function quickchart(key) {\n",
              "      const quickchartButtonEl =\n",
              "        document.querySelector('#' + key + ' button');\n",
              "      quickchartButtonEl.disabled = true;  // To prevent multiple clicks.\n",
              "      quickchartButtonEl.classList.add('colab-df-spinner');\n",
              "      try {\n",
              "        const charts = await google.colab.kernel.invokeFunction(\n",
              "            'suggestCharts', [key], {});\n",
              "      } catch (error) {\n",
              "        console.error('Error during call to suggestCharts:', error);\n",
              "      }\n",
              "      quickchartButtonEl.classList.remove('colab-df-spinner');\n",
              "      quickchartButtonEl.classList.add('colab-df-quickchart-complete');\n",
              "    }\n",
              "    (() => {\n",
              "      let quickchartButtonEl =\n",
              "        document.querySelector('#df-3bf1fb04-55f7-4c48-9f86-c6bf6bd9d9b6 button');\n",
              "      quickchartButtonEl.style.display =\n",
              "        google.colab.kernel.accessAllowed ? 'block' : 'none';\n",
              "    })();\n",
              "  </script>\n",
              "</div>\n",
              "\n",
              "    </div>\n",
              "  </div>\n"
            ],
            "application/vnd.google.colaboratory.intrinsic+json": {
              "type": "dataframe",
              "variable_name": "iris_df",
              "summary": "{\n  \"name\": \"iris_df\",\n  \"rows\": 150,\n  \"fields\": [\n    {\n      \"column\": \"sepal length (cm)\",\n      \"properties\": {\n        \"dtype\": \"number\",\n        \"std\": 0.8280661279778629,\n        \"min\": 4.3,\n        \"max\": 7.9,\n        \"num_unique_values\": 35,\n        \"samples\": [\n          6.2,\n          4.5,\n          5.6\n        ],\n        \"semantic_type\": \"\",\n        \"description\": \"\"\n      }\n    },\n    {\n      \"column\": \"sepal width (cm)\",\n      \"properties\": {\n        \"dtype\": \"number\",\n        \"std\": 0.435866284936698,\n        \"min\": 2.0,\n        \"max\": 4.4,\n        \"num_unique_values\": 23,\n        \"samples\": [\n          2.3,\n          4.0,\n          3.5\n        ],\n        \"semantic_type\": \"\",\n        \"description\": \"\"\n      }\n    },\n    {\n      \"column\": \"petal length (cm)\",\n      \"properties\": {\n        \"dtype\": \"number\",\n        \"std\": 1.7652982332594667,\n        \"min\": 1.0,\n        \"max\": 6.9,\n        \"num_unique_values\": 43,\n        \"samples\": [\n          6.7,\n          3.8,\n          3.7\n        ],\n        \"semantic_type\": \"\",\n        \"description\": \"\"\n      }\n    },\n    {\n      \"column\": \"petal width (cm)\",\n      \"properties\": {\n        \"dtype\": \"number\",\n        \"std\": 0.7622376689603465,\n        \"min\": 0.1,\n        \"max\": 2.5,\n        \"num_unique_values\": 22,\n        \"samples\": [\n          0.2,\n          1.2,\n          1.3\n        ],\n        \"semantic_type\": \"\",\n        \"description\": \"\"\n      }\n    },\n    {\n      \"column\": \"target\",\n      \"properties\": {\n        \"dtype\": \"number\",\n        \"std\": 0,\n        \"min\": 0,\n        \"max\": 2,\n        \"num_unique_values\": 3,\n        \"samples\": [\n          0,\n          1,\n          2\n        ],\n        \"semantic_type\": \"\",\n        \"description\": \"\"\n      }\n    }\n  ]\n}"
            }
          },
          "metadata": {},
          "execution_count": 22
        }
      ]
    },
    {
      "cell_type": "code",
      "source": [
        "#See the diostribution sepal length (cm)\n",
        "ggplot(data = iris_df,\n",
        "       mapping = aes(x = 'sepal length (cm)')) +\\\n",
        "       geom_histogram(color = 'white')"
      ],
      "metadata": {
        "id": "upU1gUqMJfLA",
        "outputId": "0941e659-38ac-4363-9876-c8fad2f203ff",
        "colab": {
          "base_uri": "https://localhost:8080/",
          "height": 400
        }
      },
      "execution_count": 26,
      "outputs": [
        {
          "output_type": "execute_result",
          "data": {
            "text/plain": [
              "<lets_plot.plot.core.PlotSpec at 0x7e3cb91fb490>"
            ],
            "text/html": [
              "<html lang=\"en\">\n",
              "   <head>\n",
              "       <meta charset=\"UTF-8\">\n",
              "       <style> html, body { margin: 0; padding: 0; } </style>\n",
              "       <script type=\"text/javascript\" data-lets-plot-script=\"library\" src=\"https://cdn.jsdelivr.net/gh/JetBrains/lets-plot@v4.5.2/js-package/distr/lets-plot.min.js\"></script>\n",
              "   </head>\n",
              "   <body>\n",
              "          <div id=\"2GdiYq\"></div>\n",
              "   <script type=\"text/javascript\" data-lets-plot-script=\"plot\">\n",
              "   \n",
              "   (function() {\n",
              "   // ----------\n",
              "   \n",
              "   var containerDiv = document.getElementById(\"2GdiYq\");\n",
              "   var observer = new ResizeObserver(function(entries) {\n",
              "       for (let entry of entries) {\n",
              "           var width = containerDiv.clientWidth\n",
              "           if (entry.contentBoxSize && width > 0) {\n",
              "           \n",
              "               // Render plot\n",
              "               if (observer) {\n",
              "                   observer.disconnect();\n",
              "                   observer = null;\n",
              "               }\n",
              "\n",
              "               var plotSpec={\n",
              "\"data\":{\n",
              "},\n",
              "\"mapping\":{\n",
              "\"x\":\"sepal length (cm)\"\n",
              "},\n",
              "\"data_meta\":{\n",
              "\"series_annotations\":[{\n",
              "\"type\":\"float\",\n",
              "\"column\":\"sepal length (cm)\"\n",
              "},{\n",
              "\"type\":\"float\",\n",
              "\"column\":\"sepal width (cm)\"\n",
              "},{\n",
              "\"type\":\"float\",\n",
              "\"column\":\"petal length (cm)\"\n",
              "},{\n",
              "\"type\":\"float\",\n",
              "\"column\":\"petal width (cm)\"\n",
              "},{\n",
              "\"type\":\"int\",\n",
              "\"column\":\"target\"\n",
              "}]\n",
              "},\n",
              "\"kind\":\"plot\",\n",
              "\"scales\":[],\n",
              "\"layers\":[{\n",
              "\"geom\":\"histogram\",\n",
              "\"mapping\":{\n",
              "},\n",
              "\"data_meta\":{\n",
              "},\n",
              "\"color\":\"white\",\n",
              "\"data\":{\n",
              "\"..count..\":[1.0,3.0,1.0,6.0,5.0,6.0,10.0,13.0,1.0,6.0,7.0,14.0,7.0,3.0,12.0,4.0,9.0,7.0,7.0,8.0,3.0,4.0,2.0,3.0,1.0,1.0,1.0,4.0,0.0,1.0],\n",
              "\"sepal length (cm)\":[4.2788,4.404400000000001,4.53,4.655600000000001,4.7812,4.9068000000000005,5.032400000000001,5.158,5.283600000000001,5.4092,5.534800000000001,5.660400000000001,5.7860000000000005,5.911600000000001,6.0372,6.162800000000001,6.288400000000001,6.414000000000001,6.5396,6.6652000000000005,6.790800000000001,6.916400000000001,7.042000000000001,7.1676,7.293200000000001,7.418800000000001,7.544400000000001,7.670000000000001,7.7956,7.921200000000001]\n",
              "}\n",
              "}],\n",
              "\"metainfo_list\":[],\n",
              "\"spec_id\":\"12\"\n",
              "};\n",
              "       \n",
              "               var toolbar = null;\n",
              "               var plotContainer = containerDiv;               \n",
              "               \n",
              "               var options = {\n",
              "                   sizing: {\n",
              "                       width_mode: \"min\",\n",
              "                       height_mode: \"scaled\",\n",
              "                       width: width\n",
              "                   }\n",
              "               };\n",
              "               var fig = LetsPlot.buildPlotFromProcessedSpecs(plotSpec, -1, -1, plotContainer, options);\n",
              "               if (toolbar) {\n",
              "                 toolbar.bind(fig);\n",
              "               }\n",
              "               \n",
              "               break;\n",
              "           }\n",
              "       }\n",
              "   });\n",
              "   \n",
              "   observer.observe(containerDiv);\n",
              "   \n",
              "   // ----------\n",
              "   })();\n",
              "   \n",
              "   </script>\n",
              "   </body>\n",
              "</html>"
            ]
          },
          "metadata": {},
          "execution_count": 26
        }
      ]
    },
    {
      "cell_type": "code",
      "source": [
        "#\n",
        "ggplot(data = iris_df,\n",
        "       mapping = aes(x = 'target', y = 'sepal length (cm)')) +\\\n",
        "       geom_boxplot()"
      ],
      "metadata": {
        "id": "bCAQyXCuJfnR",
        "outputId": "3a8bf768-b556-4b7a-f49f-c23fc4e9accf",
        "colab": {
          "base_uri": "https://localhost:8080/",
          "height": 400
        }
      },
      "execution_count": 27,
      "outputs": [
        {
          "output_type": "execute_result",
          "data": {
            "text/plain": [
              "<lets_plot.plot.core.PlotSpec at 0x7e3cb922ac50>"
            ],
            "text/html": [
              "<html lang=\"en\">\n",
              "   <head>\n",
              "       <meta charset=\"UTF-8\">\n",
              "       <style> html, body { margin: 0; padding: 0; } </style>\n",
              "       <script type=\"text/javascript\" data-lets-plot-script=\"library\" src=\"https://cdn.jsdelivr.net/gh/JetBrains/lets-plot@v4.5.2/js-package/distr/lets-plot.min.js\"></script>\n",
              "   </head>\n",
              "   <body>\n",
              "          <div id=\"3QyFD5\"></div>\n",
              "   <script type=\"text/javascript\" data-lets-plot-script=\"plot\">\n",
              "   \n",
              "   (function() {\n",
              "   // ----------\n",
              "   \n",
              "   var containerDiv = document.getElementById(\"3QyFD5\");\n",
              "   var observer = new ResizeObserver(function(entries) {\n",
              "       for (let entry of entries) {\n",
              "           var width = containerDiv.clientWidth\n",
              "           if (entry.contentBoxSize && width > 0) {\n",
              "           \n",
              "               // Render plot\n",
              "               if (observer) {\n",
              "                   observer.disconnect();\n",
              "                   observer = null;\n",
              "               }\n",
              "\n",
              "               var plotSpec={\n",
              "\"data\":{\n",
              "},\n",
              "\"mapping\":{\n",
              "\"x\":\"target\",\n",
              "\"y\":\"sepal length (cm)\"\n",
              "},\n",
              "\"data_meta\":{\n",
              "\"series_annotations\":[{\n",
              "\"type\":\"float\",\n",
              "\"column\":\"sepal length (cm)\"\n",
              "},{\n",
              "\"type\":\"float\",\n",
              "\"column\":\"sepal width (cm)\"\n",
              "},{\n",
              "\"type\":\"float\",\n",
              "\"column\":\"petal length (cm)\"\n",
              "},{\n",
              "\"type\":\"float\",\n",
              "\"column\":\"petal width (cm)\"\n",
              "},{\n",
              "\"type\":\"int\",\n",
              "\"column\":\"target\"\n",
              "}]\n",
              "},\n",
              "\"kind\":\"plot\",\n",
              "\"scales\":[],\n",
              "\"layers\":[{\n",
              "\"geom\":\"boxplot\",\n",
              "\"mapping\":{\n",
              "},\n",
              "\"data_meta\":{\n",
              "},\n",
              "\"data\":{\n",
              "\"..middle..\":[5.0,5.9,6.5],\n",
              "\"..lower..\":[4.8,5.6,6.25],\n",
              "\"..upper..\":[5.2,6.3,6.9],\n",
              "\"..ymin..\":[4.3,4.9,5.6],\n",
              "\"..ymax..\":[5.8,7.0,7.7],\n",
              "\"target\":[0.0,1.0,2.0]\n",
              "}\n",
              "},{\n",
              "\"geom\":\"point\",\n",
              "\"stat\":\"boxplot_outlier\",\n",
              "\"mapping\":{\n",
              "},\n",
              "\"show_legend\":false,\n",
              "\"data_meta\":{\n",
              "},\n",
              "\"data\":{\n",
              "\"..middle..\":[5.0,5.9,6.5,6.5],\n",
              "\"..lower..\":[4.8,5.6,6.25,6.25],\n",
              "\"..upper..\":[5.2,6.3,6.9,6.9],\n",
              "\"..ymin..\":[4.3,4.9,5.6,5.6],\n",
              "\"..ymax..\":[5.8,7.0,7.7,7.7],\n",
              "\"target\":[0.0,1.0,2.0,2.0],\n",
              "\"sepal length (cm)\":[NaN,NaN,4.9,7.9]\n",
              "}\n",
              "}],\n",
              "\"metainfo_list\":[],\n",
              "\"spec_id\":\"13\"\n",
              "};\n",
              "       \n",
              "               var toolbar = null;\n",
              "               var plotContainer = containerDiv;               \n",
              "               \n",
              "               var options = {\n",
              "                   sizing: {\n",
              "                       width_mode: \"min\",\n",
              "                       height_mode: \"scaled\",\n",
              "                       width: width\n",
              "                   }\n",
              "               };\n",
              "               var fig = LetsPlot.buildPlotFromProcessedSpecs(plotSpec, -1, -1, plotContainer, options);\n",
              "               if (toolbar) {\n",
              "                 toolbar.bind(fig);\n",
              "               }\n",
              "               \n",
              "               break;\n",
              "           }\n",
              "       }\n",
              "   });\n",
              "   \n",
              "   observer.observe(containerDiv);\n",
              "   \n",
              "   // ----------\n",
              "   })();\n",
              "   \n",
              "   </script>\n",
              "   </body>\n",
              "</html>"
            ]
          },
          "metadata": {},
          "execution_count": 27
        }
      ]
    },
    {
      "cell_type": "code",
      "source": [],
      "metadata": {
        "id": "FTuWgItk6mnT"
      },
      "execution_count": null,
      "outputs": []
    },
    {
      "cell_type": "markdown",
      "source": [
        "## Feature Enginnering and Data Augmentation"
      ],
      "metadata": {
        "id": "qKylx8ZxJgAB"
      }
    },
    {
      "cell_type": "markdown",
      "source": [
        "### **Data Augmentation**  \n",
        "**Definition:**\n",
        "Data augmentation is the process of artificially expanding the size and diversity of a training dataset by applying transformations or modifications to the existing data while preserving the underlying labels or structure. It is commonly used in machine learning, especially in computer vision and natural language processing, to improve model performance and robustness.\n",
        "\n",
        "### **Feature Engineering**  \n",
        "**Definition:**\n",
        "Feature engineering is the process of creating, modifying, or selecting relevant features (input variables) from raw data to improve the performance of a machine learning model. It involves transforming raw data into a format that makes it more suitable for algorithms to learn patterns.\n"
      ],
      "metadata": {
        "id": "74NeCrCiJqWB"
      }
    },
    {
      "cell_type": "code",
      "source": [],
      "metadata": {
        "id": "WLdk5nbKJqzL"
      },
      "execution_count": null,
      "outputs": []
    },
    {
      "cell_type": "code",
      "source": [],
      "metadata": {
        "id": "nhSF6JJvK8yV"
      },
      "execution_count": null,
      "outputs": []
    },
    {
      "cell_type": "markdown",
      "source": [
        "## Machine Learning Model"
      ],
      "metadata": {
        "id": "JtZjh6LZK9i7"
      }
    },
    {
      "cell_type": "markdown",
      "source": [
        "### Split the data"
      ],
      "metadata": {
        "id": "LAK2BuxWLC5D"
      }
    },
    {
      "cell_type": "code",
      "source": [],
      "metadata": {
        "id": "MMSuVHCQLGDh"
      },
      "execution_count": null,
      "outputs": []
    },
    {
      "cell_type": "markdown",
      "source": [
        "### Create the model"
      ],
      "metadata": {
        "id": "xN2sJm5ELGzD"
      }
    },
    {
      "cell_type": "code",
      "source": [],
      "metadata": {
        "id": "BmBPs2R8LSad"
      },
      "execution_count": null,
      "outputs": []
    },
    {
      "cell_type": "markdown",
      "source": [
        "### Train the model"
      ],
      "metadata": {
        "id": "8LJspZOjLSuV"
      }
    },
    {
      "cell_type": "code",
      "source": [],
      "metadata": {
        "id": "ZbLd6tU0LU-o"
      },
      "execution_count": null,
      "outputs": []
    },
    {
      "cell_type": "markdown",
      "source": [
        "### Make predictions"
      ],
      "metadata": {
        "id": "2jhhDHYbLVSg"
      }
    },
    {
      "cell_type": "code",
      "source": [],
      "metadata": {
        "id": "Jhjz5c3uLfT5"
      },
      "execution_count": null,
      "outputs": []
    },
    {
      "cell_type": "markdown",
      "source": [
        "## Evaluate the Model"
      ],
      "metadata": {
        "id": "KefJ8f62LftJ"
      }
    },
    {
      "cell_type": "code",
      "source": [],
      "metadata": {
        "id": "V0jQXowqLkkK"
      },
      "execution_count": null,
      "outputs": []
    }
  ]
}